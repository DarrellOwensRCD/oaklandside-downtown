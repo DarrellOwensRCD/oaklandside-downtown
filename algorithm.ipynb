{
 "cells": [
  {
   "cell_type": "markdown",
   "id": "cab0f9b3",
   "metadata": {},
   "source": [
    "This is a breakdown of what's occuring in this code to calculate changes from 2000 to 2020 with the Census crosswalks.\n",
    "\n",
    "In Jupyter Notebook each code block will run after you press RUN. The code willbe highlighted by a blue box. Then press RUN Again. The box will leave but the code may not be finished. Wait until \"DONE\" appears under the code block the blue highlighter passed over (excluding the first two which are just set up). Do not proceed before then. Some comments may print from within the code itself but it's largely for clarity purposes. Click on this paragraph here to begin. to see the current block run. Then Press \"RUN\" to go to the next paragraph or code. \n",
    "\n",
    "The blue highlighter will pass over the code, the \"IN[]\" on the side will say: IN [ * ] while running and then a number will replace the asterick once finished. Press RUN and do not proceed until a \"DONE\" is printed below the code box and/or IN [ NUMBER ] appears. May take a few minutes or be instant. This does not apply to sentences or paragraphs blocks such as this one, which also are not denoted by In [Number]: on the left hand side. To restart at any time: Press KERNAL -> RESTART KERNAL AND CLEAR ALL OUTPUT. Then click back on this box and press RUN to begin. \n",
    "\n",
    "(If you don't care about any of this and want to see the final product. Click RESTART & RUN ALL. Scroll to the bottom and a geojson map file will be in the crosswalk folders after a few minutes while the code runs on automatic.)\n",
    "\n",
    "Contact me for any questions. . .  \n",
    "\n",
    "First we start by importing Python libraries. (Click RUN; do this every time unless you're at a code block (excluding the first two, this next one and the one after the next comment. Wait for DONE and then press RUN)\n",
    "\n"
   ]
  },
  {
   "cell_type": "code",
   "execution_count": 1,
   "id": "2eb81726",
   "metadata": {},
   "outputs": [],
   "source": [
    "import ast\n",
    "import copy\n",
    "import json\n",
    "import csv\n",
    "import statistics\n",
    "import os.path\n",
    "from os import path\n"
   ]
  },
  {
   "cell_type": "markdown",
   "id": "118cbea5",
   "metadata": {},
   "source": [
    "Next we establish two functions: one that takes any blocks (ignore the variable name \"2020\") and makes it Census tracts and the other a division operator to avoid Div By Zero errors. "
   ]
  },
  {
   "cell_type": "code",
   "execution_count": 2,
   "id": "7dd2da77",
   "metadata": {},
   "outputs": [],
   "source": [
    "def tract_maker(final2020):\n",
    "    tract2020 = {}\n",
    "    seen = []         \n",
    "    for k in final2020.keys():\n",
    "        tract = k[0:14]\n",
    "        if tract not in seen:\n",
    "            values = []\n",
    "            for key, value in final2020.items():\n",
    "                if key[0:14] == tract:\n",
    "                    if not values:\n",
    "                        values = value\n",
    "                    else:\n",
    "                        values = [float(a) + float(b) for a, b in zip(values, value)]\n",
    "            if values:\n",
    "                tract2020[tract] = values\n",
    "                seen.append(tract)\n",
    "    return tract2020\n",
    "    \n",
    "def zerodiv(a, b):\n",
    "    if b > 0:\n",
    "        return round(a / b, 1)\n",
    "    return 0"
   ]
  },
  {
   "cell_type": "markdown",
   "id": "f3b20dfd",
   "metadata": {},
   "source": [
    "Now we open Census Data 2000 and 2010 at the Block level, along with the Crosswalk file explaining geographic changes between these two datasets"
   ]
  },
  {
   "cell_type": "code",
   "execution_count": 3,
   "id": "26146b2b",
   "metadata": {
    "scrolled": true
   },
   "outputs": [
    {
     "name": "stdout",
     "output_type": "stream",
     "text": [
      "Opening files...This is the first code block. Wait until DONE appears to proceed.\n",
      "DONE\n"
     ]
    }
   ],
   "source": [
    "\n",
    "\n",
    "'''Program will calculate the differences in data from 2000 to 2010 at the block level.\n",
    "The data accumulated can be summed up into tracts. The net data from the crosswalks will be saved\n",
    "into a file so Part 2 of the program can use them and they also can be verified manually in case\n",
    "of error.\n",
    "'''\n",
    "print(\"Opening files...This is the first code block. Wait until DONE appears to proceed.\")\n",
    "# Census 2000 data Blocks\n",
    "f00 = 'Census2000/nhgis0097_ds147_2000_block.csv'\n",
    "# Census 2010 data Blocks\n",
    "f10 = 'Census2010/nhgis0094_ds172_2010_block.csv'\n",
    "# 2000 to 2010 Crosswalks\n",
    "filecw1 = 'crosswalk/nhgis_blk2000_blk2010_gj_06/nhgis_blk2000_blk2010_gj_06.csv'\n",
    "with open(filecw1, 'r') as a, open(f00, 'r') as c, open(f10, 'r') as d:\n",
    "    cw1 = list(csv.reader(a, delimiter=',')) # Crosswalk 2000 - 2010\n",
    "    d00 = list(csv.reader(c, delimiter=',')) # Census 2000\n",
    "    d10 = list(csv.reader(d, delimiter=',')) # Census 2010\n",
    "    a.close()\n",
    "    c.close()\n",
    "    d.close()\n",
    "print(\"DONE\")"
   ]
  },
  {
   "cell_type": "markdown",
   "id": "103de065",
   "metadata": {},
   "source": [
    "Now the algorithm begins. \n",
    "PART 1: Iterating through the Crosswalk file, we multiply the weights given for each 2000 block onto any 2010 block identified with that weight and 2000 block -- meaning they intersected at some point. This is so we understand what proportion of the 2010 block geography reflects on the 2000 block. All the fragmented and transformed 2000 blocks that touched a 2010 block with their weight products will sum up into a complete version of the 2010 block equal in shape. Recall the point of crosswalks here is so that we can invent a block full of 2000 data that is identical in shape as 2010's block so we can subtract the difference.\n",
    "\n",
    "The format within the variable \"line_list\" will look like:\n",
    "Row #N: Block ID 2000, Block ID 2010, 2000 White Count * Weight, 2000 Black Count * Weight ... \n",
    "\n",
    "PART 2: Once that's done, we make a \"dictionary\" of sorts, and iterate through the aforementioned weighted list, physically constructing the 2010-shaped block of 2000 data which is currently only in a list form. This is so that when we need to calculate the difference between the Census 2010 - Census 2000 block, upon calling the 2010 block, we'll easily subtract its recreation 2000 geography a.k.a. a \"target block or fitted block.\n",
    "\n",
    "Example: \n",
    "Summon: Census Block 4000 2010 \n",
    "Dictionary: Census Block 2010 returns Census Block 2000 TARGET, consisting of 50% of Census Block 2000 3999 and 50% of Census Block 2000 4001. \n",
    "\n",
    "PART 3: Once those target blocks have been assembled we'll do the actual math as described above, which is the third part after \"Target Blocks Assembled\"\n",
    "\n",
    "NOTE: This part takes a few minutes. Do not proceed beyond the next code block until \"START PART 1\" \"START PART 2\" \"START PART 3\" \"2000 to 2010 done; writing content back\" appears in the console at the end of the code block. It'll start with \"START PART 1\"\n",
    "\n"
   ]
  },
  {
   "cell_type": "code",
   "execution_count": 4,
   "id": "7f4b87c0",
   "metadata": {},
   "outputs": [
    {
     "name": "stdout",
     "output_type": "stream",
     "text": [
      "START PART 1\n",
      "START PART 2\n",
      "Target Blocks Assembled - START PART 3\n",
      "2000 to 2010 done; writing content back\n",
      "DONE\n"
     ]
    }
   ],
   "source": [
    "'''\n",
    "# STEP 1 : iterate through crosswalk file blocks, find a 2000 block\n",
    "# , copy and multiply the data of the 2000 blocks (We only care about cells 46 to 78) by the weight for that block\n",
    "Basically we're reconstructing the Crosswalk List but inserting a vector of the 2000 data thats been weighted\n",
    "So final product looks like: [Block 2010 , Block 2020, Data0 * Weight, Data1 * Weight . . . ]\n",
    "'''\n",
    "print(\"START PART 1\")\n",
    "wdata00 =[d00[0][46:80]]\n",
    "wdata00[0].insert(0, \"Block ID 2010\")\n",
    "wdata00[0].insert(0, \"Block ID 2000\")\n",
    "for cross_row in cw1: \n",
    "    if cross_row[0][0:8] == 'G0600010': \n",
    "        for row in d00:\n",
    "            if cross_row[0] == row[0]:\n",
    "                weight = float(cross_row[2])\n",
    "                line_list = [cross_row[0], cross_row[1]]\n",
    "                for i in range(46, 80):\n",
    "                    line_list.append(float(row[i]) * weight)\n",
    "                wdata00.append(line_list)\n",
    "                break\n",
    "# GOAL: I want to Know for A SPECIFIC 2010 BLOCK what are the equvilanet pieces of 1 or more\n",
    "# 2000 BLOCKS that make it equvilanet to the SPECIFIC 2010 BLOCK\n",
    "# With 2000 Data Calculated, Create the equivilant 2000 target by Summing\n",
    "# Up the 2000 weighted data for every instance of the selected 2010 block\n",
    "'''The goal is to recreate the equivilant of a 2000 data fitted to a 2010 block.\n",
    "So we shall iterate through the 2010 data (we only want the block label), find overlapping 2000 data from the above Crosswalk.\n",
    "Sum the weighed data up. and then put the weighted summation in a dictionary with its 2010 equal.\n",
    "Once we're done we can just subtract the weighted representation in the dictionary from the 2010 tracts\n",
    "these weighted representations are called \"targets\"\n",
    "'''\n",
    "print(\"START PART 2\")\n",
    "target00to10blks = {}\n",
    "for row in d10:\n",
    "    if row[7] == \"Alameda County\":\n",
    "        # Regular Op\n",
    "        first = True\n",
    "        for wrow in wdata00:\n",
    "            if row[0] == wrow[1]:\n",
    "                # Append name of the 2010 block\n",
    "                # then summate the fragments of the 2000 weighted data\n",
    "                if first:\n",
    "                    first = False\n",
    "                    target00to10blks[row[0]] = wrow[2:36]\n",
    "                else:\n",
    "                    target00to10blks[row[0]] = [float(a) + float(b) for a, b in zip(target00to10blks[row[0]], wrow[2:36])]\n",
    "print(\"Target Blocks Assembled - START PART 3\")\n",
    "final2010= {}\n",
    "for row in d10:\n",
    "    if row[0] in target00to10blks:\n",
    "        target = target00to10blks[row[0]]\n",
    "        content =[]\n",
    "        content.append(float(row[58]) - target[0])#Total Pop0\n",
    "        content.append(float(row[60]) - target[1] )#White1\n",
    "        content.append(float(row[61]) - target[2])#Black2\n",
    "        content.append(float(row[62]) - target[3])#Native3\n",
    "        content.append(float(row[63]) - target[4])#Asian4\n",
    "        content.append( float(row[64]) - target[5])#Haiwanna5\n",
    "        content.append(float(row[65]) - target[6])#Other6\n",
    "        content.append( float(row[66]) - target[7])#Multi7\n",
    "        content.append(float(row[67]) - (target[8] + target[9] + target[10] + target[11] + target[12] + target[13] + target[14]))#Hispanic\n",
    "        content.append( float(row[75]) - target[15]) #Homes9\n",
    "        content.append( float(row[77]) - target[17])#Vacant10\n",
    "        content.append( float(row[87]) - (target[25] + target[26] + target[27] + target[28] + target[29] + target[30] + target[31]))# Renters\n",
    "        content.append( float(row[79]) - (target[18] + target[19] + target[20] + target[21] + target[22] + target[23] + target[24]))# Homeowners\n",
    "        content.append( float(row[80]) - target[18]) #White Homeowners13\n",
    "        content.append( float(row[81]) - target[19])#Black14\n",
    "        content.append( float(row[82]) - target[20])#Native15\n",
    "        content.append( float(row[83]) - target[21])#Asian16\n",
    "        content.append( float(row[84]) - target[22])#Haiwanna17\n",
    "        content.append( float(row[85]) - target[23])#Other18\n",
    "        content.append( float(row[86]) - target[24])#Multi19\n",
    "        content.append( float(row[98]) - target[32]) #Hispanic Honeowners20\n",
    "        content.append( float(row[88]) - target[25])#White Renters21\n",
    "        content.append( float(row[89]) - target[26])#Black22\n",
    "        content.append( float(row[90]) - target[27])#Native23\n",
    "        content.append( float(row[91]) - target[28])#Asian24\n",
    "        content.append( float(row[92]) - target[29])#Haiwanna25\n",
    "        content.append( float(row[93]) - target[30])#Other26\n",
    "        content.append( float(row[94]) - target[31])#Multi27\n",
    "        content.append( float(row[101]) - target[33])#Hispanic Renter28\n",
    "        final2010[row[0]] = content\n",
    "print(\"2000 to 2010 done; writing content back\")\n",
    "print(\"DONE\")"
   ]
  },
  {
   "cell_type": "markdown",
   "id": "7ed77358",
   "metadata": {},
   "source": [
    "Before we move onto the other half of the program -- 2010 to 2020 and 2000 to 2020 --we save the data calculating 2000 to 2010 in a CSV file, one in tract form, one in block form -- but we'll only use the block one. Tract was for debugging accuracy.\n"
   ]
  },
  {
   "cell_type": "code",
   "execution_count": 5,
   "id": "a1c3c016",
   "metadata": {},
   "outputs": [
    {
     "name": "stdout",
     "output_type": "stream",
     "text": [
      "Writing Back\n",
      "DONE\n"
     ]
    }
   ],
   "source": [
    "print(\"Writing Back\")\n",
    "net0010t = tract_maker(final2010) #Tract version. final2020 is the blocks\n",
    "with open('crosswalk/change0010tract.csv', mode='w', newline='') as file1:\n",
    "    csv_writer = csv.writer(file1)\n",
    "    for key, value in net0010t.items():\n",
    "        csv_writer.writerow([key, value])\n",
    "    file1.close()\n",
    "with open('crosswalk/change0010.csv', mode='w', newline='') as file:\n",
    "    csv_writer = csv.writer(file)\n",
    "    for key, value in final2010.items():\n",
    "        csv_writer.writerow([key, value])\n",
    "    file.close()\n",
    "print(\"DONE\")"
   ]
  },
  {
   "cell_type": "markdown",
   "id": "76968fe2",
   "metadata": {},
   "source": [
    "ONTO THE SECOND PART:\n",
    "\n",
    "We again open relevant datafiles: Census 2010 blocks, Census 2020 blocks and 2010 to 2020 Crosswalks. This time we also open the data we calculated in the first half, which is Census Blocks 2010 containing the net difference between 2010 and 2000 data. We'll save that in a easy dictionary (list with key value) to access called \"final2010\"\n"
   ]
  },
  {
   "cell_type": "code",
   "execution_count": 6,
   "id": "3790762c",
   "metadata": {},
   "outputs": [
    {
     "name": "stdout",
     "output_type": "stream",
     "text": [
      "Crosswalks from 2000 to 2010 done, onto 2010 to 2020\n",
      "Opening Data files\n",
      "DONE\n"
     ]
    }
   ],
   "source": [
    "print(\"Crosswalks from 2000 to 2010 done, onto 2010 to 2020\")\n",
    "print(\"Opening Data files\")\n",
    "# Census 2010 data Blocks\n",
    "f10 = 'Census2010/nhgis0094_ds172_2010_block.csv'\n",
    "# Census 2020 data Blocks\n",
    "f20 = 'Census2020/nhgis0095_ds258_2020_block.csv'\n",
    "# Weighted Data from 2000 to 2010 from PART 1\n",
    "filecw1 = 'crosswalk/change0010.csv'\n",
    "# 2010 to 2020 Crosswalks\n",
    "filecw2 = 'crosswalk/nhgis_blk2010_blk2020_gj_06(1)/nhgis_blk2010_blk2020_gj_06.csv'\n",
    "with open(filecw1) as a, open(filecw2) as b, open(f10) as d, open(f20) as e:\n",
    "    f2010 = list(csv.reader(a, delimiter=',')) # Crosswalk 2000 - 2010\n",
    "    cw2 = list(csv.reader(b, delimiter=',')) # Crosswalk 2010 - 2020\n",
    "    d10 = list(csv.reader(d, delimiter=',')) # Census 2010\n",
    "    d20 = list(csv.reader(e, delimiter=',')) # Census 2020\n",
    "final2010 = {}\n",
    "# Digitizing the net changes calculated in PART 1 from a string list to a real list, accompanied with each 2010 block which is final2010\n",
    "for row in f2010:\n",
    "    final2010[row[0]] = ast.literal_eval(row[1])\n",
    "print(\"DONE\")"
   ]
  },
  {
   "cell_type": "markdown",
   "id": "d98c656b",
   "metadata": {},
   "source": [
    "In this part 1 of the SECOND HALF, we repeat what we did in part 1 of the FIRST HALF but the key difference is in addition to applying weights to 2010's data in accordiance with the geographic proportion they make of 2020's census blocks, we also multiply the NET CHANGES 2000 -> 2010 data calculated in the FIRST HALF and stored within each Census Block in 2010 with those same 2010 -> 2020 weights we have now. \n",
    "\n",
    "Again, like the FIRST HALF's part 2, we also make a dictionary where each 2020 block as its associated 2010 weighted data but it also includes a second dictionary where the net change data from 2000 -> 2010 that was weighted in SECOND HALF's part 1 is also stored with each corresponding 2020 block in the variable: targetnet0010."
   ]
  },
  {
   "cell_type": "code",
   "execution_count": 7,
   "id": "9241a599",
   "metadata": {},
   "outputs": [
    {
     "name": "stdout",
     "output_type": "stream",
     "text": [
      "Weighting Data - PART 1\n",
      "Generating 2010 targets for 2020 data - PART 2\n",
      "2010 Target Blocks Assembled\n",
      "DONE\n"
     ]
    }
   ],
   "source": [
    "\n",
    "print(\"Weighting Data - PART 1\")\n",
    "''' Weighting the 2010 data from the 2020 crosswalks\n",
    "    Iterate through the crosswalk file. Find a 2010 block in the crosswalk row (cross_row)\n",
    "    then find its data from d10 database which is row. Take the weight and multiply each\n",
    "    value by the weight. This shows the share of data represented for the 2020 block, placed\n",
    "    into the \"weighted\" or wdata10 database\n",
    "'''\n",
    "wnet10 = [[\"Block ID 2010\", \"Block ID 2020\", \"List of Net Changes\"]]\n",
    "wdata10 =[d10[0][58:102]]\n",
    "wdata10[0].insert(0, \"Block ID 2020\")\n",
    "wdata10[0].insert(0, \"Block ID 2010\")\n",
    "\n",
    "for cross_row in cw2:\n",
    "    if cross_row[0][0:8] == 'G0600010': \n",
    "        for row in d10:\n",
    "            if cross_row[0] == row[0]:\n",
    "                weight = float(cross_row[2])\n",
    "                line_list = [cross_row[0], cross_row[1]]\n",
    "                for i in range(58, 102):\n",
    "                    line_list.append(float(row[i]) * weight)\n",
    "                # Now apply weights to the net changes. If block 2010 exists in the 2010 net changes sheet\n",
    "                if row[0] in final2010:\n",
    "                    netdata10 = copy.deepcopy(final2010[row[0]])\n",
    "                    for n, d in enumerate(netdata10):\n",
    "                        netdata10[n] = d * weight\n",
    "                    line_list.append(netdata10) # Last element in weighted data should be a sublist of the net changes\n",
    "                    wdata10.append(line_list)\n",
    "                break\n",
    "'''The goal is to recreate the equivilant of a 2010 data fitted to a 2020 block.\n",
    "So we shall iterate through the 2020 data, find overlapping 2010 data from the above Crosswalk.\n",
    "Sum the weighed data up. and then put the weighted summation in a dictionary with its 2010 equal.\n",
    "Once we're done we can just subtract the weighted representation in the dictionary from the 2010 tracts\n",
    "these weighted representations are called \"targets\"\n",
    "\n",
    "We do the same thing with these net changes. Iterate through the 2020s block labels, find all crosswalk 2010 weighted lines\n",
    "featuring that 2020 block label. Sum up the net changes for each instance of that line and then put the final product in a dictionary for that\n",
    "assigned 2020 block\n",
    "'''\n",
    "print(\"Generating 2010 targets for 2020 data - PART 2\")\n",
    "targetnet0010 = {}\n",
    "target10to20blks = {}\n",
    "for row in d20:\n",
    "    if row[9] == \"Alameda County\":\n",
    "        first = True\n",
    "        for wrow in wdata10:\n",
    "            if wrow[1] == row[0]:\n",
    "                # Append name of the 2020 block\n",
    "                # then summate the fragments of the 2010 weighted data\n",
    "                # and the 2010 net weighted data (APPLY THIS)\n",
    "                if first:\n",
    "                    first = False\n",
    "                    target10to20blks[row[0]] = wrow[2:46] # 2 - 45 are weighted 2010s data and 46 is a sub list of net changes\n",
    "                    targetnet0010[row[0]] = wrow[46]\n",
    "                else:\n",
    "                    target10to20blks[row[0]] = [float(a) + float(b) for a, b in zip(target10to20blks[row[0]], wrow[2:46])]\n",
    "                    targetnet0010[row[0]] = [float(a) + float(b) for a, b in zip(targetnet0010[row[0]], wrow[46])]\n",
    "print(\"2010 Target Blocks Assembled\")\n",
    "print(\"DONE\")"
   ]
  },
  {
   "cell_type": "markdown",
   "id": "c42ba5a1",
   "metadata": {},
   "source": [
    "Now in Part 3 we calculate the net changes like the FIRST HALF of Part 3. Key difference is that after we've calculated 2010 -> 2020 net changes for each 2020 Census block, we summon the net changes from 00 -> 10 with the key from the same 2020 Census Block from the targetnet0010 dictionary, and add those 00 -> 10 net changes onto the net changes of 10 -> 20 we just calculated, to produce a calculation of changes over 20-years. 20 year net change data's stored in finalnet2020.\n",
    "\n",
    "finalnet2020[row[0]] = [float(a) + float(b) for a, b in zip(content, ntarget)]\n",
    "\n",
    "This is the code that calculates all the racial groups and their changes. Because all substraction changes of all the racial groups are assigned column numbers for each row (0 to 28) I don't need to write each line out like I do when pulling data from \"rows\" which is directly from the census data sheet. As such, the zip() function proportionally sums the 00 -> 10 and 10 -> 20 data compactly."
   ]
  },
  {
   "cell_type": "code",
   "execution_count": 8,
   "id": "f9013488",
   "metadata": {},
   "outputs": [
    {
     "name": "stdout",
     "output_type": "stream",
     "text": [
      "Calculating net changes - PART 3\n",
      "Calculations finished. Making tracts\n",
      "DONE\n"
     ]
    }
   ],
   "source": [
    "'''\n",
    "At this point, we need to calculate the net differences between 2010 to 2020 between the 2020 blocks and the target 2010 recreations.\n",
    "For every calculation, we can then add that to the 2020's target 2010 net change blocks to calculate the changes from 2020 to 2000, a span of 20 years\n",
    "'''\n",
    "print(\"Calculating net changes - PART 3\")\n",
    "final2020= {}\n",
    "finalnet2020 = {}\n",
    "for row in d20:\n",
    "    if row[0] in target10to20blks and row[0] in targetnet0010:\n",
    "        target = target10to20blks[row[0]]\n",
    "        content =[]\n",
    "        content.append(float(row[59]) - target[0])#Total Pop 0 \n",
    "        content.append(float(row[61]) - target[2])#White 1\n",
    "        content.append(float(row[62]) - target[3])#Black 2\n",
    "        content.append(float(row[63]) - target[4])#Native 3\n",
    "        content.append(float(row[64]) - target[5])#Asian 4\n",
    "        content.append( float(row[65]) - target[6])#Haiwanna 5\n",
    "        content.append(float(row[66]) - target[7])#Other 6\n",
    "        content.append( float(row[67]) - target[8])#Multi 7\n",
    "        content.append(float(row[68]) - target[9])#Hispanic 8\n",
    "        content.append( float(row[76]) - target[17]) #Homes 9\n",
    "        content.append( float(row[78]) - target[19])#Vacant 10\n",
    "        content.append( float(row[92]) - target[29])# Renters 11\n",
    "        content.append( float(row[84]) - target[21])# Homeowners 12\n",
    "        content.append( float(row[85]) - target[22]) #White Homeowners 13\n",
    "        content.append( float(row[86]) - target[23])#Black 14\n",
    "        content.append( float(row[87]) - target[24])#Native 15\n",
    "        content.append( float(row[88]) - target[25])#Asian 16\n",
    "        content.append( float(row[89]) - target[26])#Haiwanna 17\n",
    "        content.append( float(row[90]) - target[27])#Other 18\n",
    "        content.append( float(row[91]) - target[28])#Multi 19\n",
    "        content.append( float(row[80]) - target[40]) #Hispanic Honeowners 20\n",
    "        content.append( float(row[93]) - target[30])#White Renters 21\n",
    "        content.append( float(row[94]) - target[31])#Black 22\n",
    "        content.append( float(row[95]) - target[32])#Native 23\n",
    "        content.append( float(row[96]) - target[33])#Asian 24\n",
    "        content.append( float(row[97]) - target[34])#Haiwanna 25\n",
    "        content.append( float(row[98]) - target[35])#Other 26\n",
    "        content.append( float(row[99]) - target[36])#Multi 27\n",
    "        content.append( float(row[82]) - target[43])#Hispanic Renter 28\n",
    "        final2020[row[0]] = content\n",
    "        # Summating the net changes now, same as above\n",
    "        #Note that its in the same alignment as the above content but of the 00 - 10 version so ZIP() will do\n",
    "        ntarget =  targetnet0010[row[0]]\n",
    "        finalnet2020[row[0]] = [float(a) + float(b) for a, b in zip(content, ntarget)]\n",
    "print(\"Calculations finished. Making tracts\")\n",
    "print(\"DONE\")"
   ]
  },
  {
   "cell_type": "markdown",
   "id": "87303dca",
   "metadata": {},
   "source": [
    "The algorithm is basically over, now I just make Census Tracts out of the Census Blocks and then write all the data back to files. \n",
    "\n",
    "change1020tract.csv: Change from 2010 to 2020 in Tract Form (only used for data verification)\n",
    "\n",
    "change0020tract.csv: Change from 2000 to 2020 in Tract Form. This will be made into a map on Mapbox.\n",
    "\n",
    "change0020.csv: Change from 2000 to 2020 in Block Form. Used mostly for verification but also fine grain level analysis.\n",
    "\n",
    "change1020.csv: Change from 2010 to 2020 in Block Form. (Only used for data verification)\n",
    "\n",
    "The final data should be within the crosswalks folder. Delete these files and run again to see how they're created.\n",
    "\n"
   ]
  },
  {
   "cell_type": "code",
   "execution_count": 9,
   "id": "c951b71f",
   "metadata": {},
   "outputs": [
    {
     "name": "stdout",
     "output_type": "stream",
     "text": [
      "Writing Back\n",
      "DONE. Program over.\n"
     ]
    },
    {
     "data": {
      "text/plain": [
       "'\\nWith the net values from 2010 to 2020 calculated via a target 2010 value onto a current 2020 block\\n, add these differences to the net changes. Probably should do it immediately after the net changes'"
      ]
     },
     "execution_count": 9,
     "metadata": {},
     "output_type": "execute_result"
    }
   ],
   "source": [
    "''' At this point sum up all census block values like vectors for each census tract '''\n",
    "tract0020 = tract_maker(finalnet2020) # this should be the final product \n",
    "tract1020 = tract_maker(final2020) #this tests if 2010 to 2020 c\n",
    "print(\"Writing Back\")\n",
    "# Final Tract data\n",
    "with open('crosswalk/change1020tract.csv', mode='w', newline='') as file0:\n",
    "    csv_writer = csv.writer(file0)\n",
    "    for key, value in tract1020.items():\n",
    "        csv_writer.writerow([key, value])\n",
    "    file0.close()\n",
    "with open('crosswalk/change0020tract.csv', mode='w', newline='') as file1:\n",
    "    csv_writer = csv.writer(file1)\n",
    "    for key, value in tract0020.items():\n",
    "        csv_writer.writerow([key, value])\n",
    "    file1.close()\n",
    "# Final Block data\n",
    "with open('crosswalk/change0020.csv', mode='w', newline='') as file2:\n",
    "    csv_writer = csv.writer(file2)\n",
    "    for key, value in finalnet2020.items():\n",
    "        csv_writer.writerow([key, value])\n",
    "    file2.close()\n",
    "with open('crosswalk/change1020.csv', mode='w', newline='') as file3:\n",
    "    csv_writer = csv.writer(file3)\n",
    "    for key, value in final2020.items():\n",
    "        csv_writer.writerow([key, value])\n",
    "    file3.close()\n",
    "print(\"DONE. Program over.\")\n",
    "'''\n",
    "With the net values from 2010 to 2020 calculated via a target 2010 value onto a current 2020 block\n",
    ", add these differences to the net changes. Probably should do it immediately after the net changes'''\n"
   ]
  }
 ],
 "metadata": {
  "kernelspec": {
   "display_name": "Python 3 (ipykernel)",
   "language": "python",
   "name": "python3"
  },
  "language_info": {
   "codemirror_mode": {
    "name": "ipython",
    "version": 3
   },
   "file_extension": ".py",
   "mimetype": "text/x-python",
   "name": "python",
   "nbconvert_exporter": "python",
   "pygments_lexer": "ipython3",
   "version": "3.9.0"
  }
 },
 "nbformat": 4,
 "nbformat_minor": 5
}
